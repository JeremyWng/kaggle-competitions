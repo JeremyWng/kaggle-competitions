{
 "cells": [
  {
   "cell_type": "markdown",
   "metadata": {},
   "source": [
    "# Report of Titanic"
   ]
  },
  {
   "cell_type": "markdown",
   "metadata": {},
   "source": [
    "## Data analysis\n",
    "## 数据分析"
   ]
  },
  {
   "cell_type": "markdown",
   "metadata": {},
   "source": [
    "First, use pandas to analyze the data:\n",
    "\n",
    "load the necessary libraries.\n",
    "\n",
    "首先利用pandas对数据进行分析：\n",
    "\n",
    "载入必要的函数库"
   ]
  },
  {
   "cell_type": "code",
   "execution_count": 67,
   "metadata": {},
   "outputs": [],
   "source": [
    "import numpy as np\n",
    "import pandas as pd\n",
    "import matplotlib.pyplot as plt\n",
    "import seaborn as sns"
   ]
  },
  {
   "cell_type": "markdown",
   "metadata": {},
   "source": [
    "Load the data.\n",
    "\n",
    "载入数据"
   ]
  },
  {
   "cell_type": "code",
   "execution_count": 68,
   "metadata": {
    "collapsed": true
   },
   "outputs": [],
   "source": [
    "train = pd.read_csv('titanic/train.csv')\n",
    "test = pd.read_csv('titanic/test.csv')"
   ]
  },
  {
   "cell_type": "markdown",
   "metadata": {},
   "source": [
    "Check the feature categories. As shown below, there are 11 types of features (excluding Survived), of which 6 are numeric features and 5 are non-numerical features.\n",
    "\n",
    "首先检查特征类别，如下所示，共有11类特征（不包括Survived）， 其中6类数值特征，5类非数值特征。"
   ]
  },
  {
   "cell_type": "code",
   "execution_count": 69,
   "metadata": {
    "scrolled": false
   },
   "outputs": [
    {
     "data": {
      "text/html": [
       "<div>\n",
       "<table border=\"1\" class=\"dataframe\">\n",
       "  <thead>\n",
       "    <tr style=\"text-align: right;\">\n",
       "      <th></th>\n",
       "      <th>PassengerId</th>\n",
       "      <th>Survived</th>\n",
       "      <th>Pclass</th>\n",
       "      <th>Name</th>\n",
       "      <th>Sex</th>\n",
       "      <th>Age</th>\n",
       "      <th>SibSp</th>\n",
       "      <th>Parch</th>\n",
       "      <th>Ticket</th>\n",
       "      <th>Fare</th>\n",
       "      <th>Cabin</th>\n",
       "      <th>Embarked</th>\n",
       "    </tr>\n",
       "  </thead>\n",
       "  <tbody>\n",
       "    <tr>\n",
       "      <th>0</th>\n",
       "      <td>1</td>\n",
       "      <td>0</td>\n",
       "      <td>3</td>\n",
       "      <td>Braund, Mr. Owen Harris</td>\n",
       "      <td>male</td>\n",
       "      <td>22.0</td>\n",
       "      <td>1</td>\n",
       "      <td>0</td>\n",
       "      <td>A/5 21171</td>\n",
       "      <td>7.2500</td>\n",
       "      <td>NaN</td>\n",
       "      <td>S</td>\n",
       "    </tr>\n",
       "    <tr>\n",
       "      <th>1</th>\n",
       "      <td>2</td>\n",
       "      <td>1</td>\n",
       "      <td>1</td>\n",
       "      <td>Cumings, Mrs. John Bradley (Florence Briggs Th...</td>\n",
       "      <td>female</td>\n",
       "      <td>38.0</td>\n",
       "      <td>1</td>\n",
       "      <td>0</td>\n",
       "      <td>PC 17599</td>\n",
       "      <td>71.2833</td>\n",
       "      <td>C85</td>\n",
       "      <td>C</td>\n",
       "    </tr>\n",
       "    <tr>\n",
       "      <th>2</th>\n",
       "      <td>3</td>\n",
       "      <td>1</td>\n",
       "      <td>3</td>\n",
       "      <td>Heikkinen, Miss. Laina</td>\n",
       "      <td>female</td>\n",
       "      <td>26.0</td>\n",
       "      <td>0</td>\n",
       "      <td>0</td>\n",
       "      <td>STON/O2. 3101282</td>\n",
       "      <td>7.9250</td>\n",
       "      <td>NaN</td>\n",
       "      <td>S</td>\n",
       "    </tr>\n",
       "    <tr>\n",
       "      <th>3</th>\n",
       "      <td>4</td>\n",
       "      <td>1</td>\n",
       "      <td>1</td>\n",
       "      <td>Futrelle, Mrs. Jacques Heath (Lily May Peel)</td>\n",
       "      <td>female</td>\n",
       "      <td>35.0</td>\n",
       "      <td>1</td>\n",
       "      <td>0</td>\n",
       "      <td>113803</td>\n",
       "      <td>53.1000</td>\n",
       "      <td>C123</td>\n",
       "      <td>S</td>\n",
       "    </tr>\n",
       "    <tr>\n",
       "      <th>4</th>\n",
       "      <td>5</td>\n",
       "      <td>0</td>\n",
       "      <td>3</td>\n",
       "      <td>Allen, Mr. William Henry</td>\n",
       "      <td>male</td>\n",
       "      <td>35.0</td>\n",
       "      <td>0</td>\n",
       "      <td>0</td>\n",
       "      <td>373450</td>\n",
       "      <td>8.0500</td>\n",
       "      <td>NaN</td>\n",
       "      <td>S</td>\n",
       "    </tr>\n",
       "  </tbody>\n",
       "</table>\n",
       "</div>"
      ],
      "text/plain": [
       "   PassengerId  Survived  Pclass  \\\n",
       "0            1         0       3   \n",
       "1            2         1       1   \n",
       "2            3         1       3   \n",
       "3            4         1       1   \n",
       "4            5         0       3   \n",
       "\n",
       "                                                Name     Sex   Age  SibSp  \\\n",
       "0                            Braund, Mr. Owen Harris    male  22.0      1   \n",
       "1  Cumings, Mrs. John Bradley (Florence Briggs Th...  female  38.0      1   \n",
       "2                             Heikkinen, Miss. Laina  female  26.0      0   \n",
       "3       Futrelle, Mrs. Jacques Heath (Lily May Peel)  female  35.0      1   \n",
       "4                           Allen, Mr. William Henry    male  35.0      0   \n",
       "\n",
       "   Parch            Ticket     Fare Cabin Embarked  \n",
       "0      0         A/5 21171   7.2500   NaN        S  \n",
       "1      0          PC 17599  71.2833   C85        C  \n",
       "2      0  STON/O2. 3101282   7.9250   NaN        S  \n",
       "3      0            113803  53.1000  C123        S  \n",
       "4      0            373450   8.0500   NaN        S  "
      ]
     },
     "execution_count": 69,
     "metadata": {},
     "output_type": "execute_result"
    }
   ],
   "source": [
    "train.head()"
   ]
  },
  {
   "cell_type": "markdown",
   "metadata": {},
   "source": [
    "There are default values in the data set, check the default values of various features here:\n",
    "\n",
    "经过前期了解，数据集中存在缺省值，所以在这里检查各类特征的缺省值："
   ]
  },
  {
   "cell_type": "code",
   "execution_count": 70,
   "metadata": {},
   "outputs": [
    {
     "data": {
      "text/plain": [
       "PassengerId      0\n",
       "Survived         0\n",
       "Pclass           0\n",
       "Name             0\n",
       "Sex              0\n",
       "Age            177\n",
       "SibSp            0\n",
       "Parch            0\n",
       "Ticket           0\n",
       "Fare             0\n",
       "Cabin          687\n",
       "Embarked         2\n",
       "dtype: int64"
      ]
     },
     "execution_count": 70,
     "metadata": {},
     "output_type": "execute_result"
    }
   ],
   "source": [
    "train.isnull().sum()"
   ]
  },
  {
   "cell_type": "markdown",
   "metadata": {},
   "source": [
    "As shown above, there are default values in Age and Carbin, we will do some processing later.\n",
    "\n",
    "如上图所示，Age和Carbin中存在较多的缺省值，我们将在后面进行一些处理。"
   ]
  },
  {
   "cell_type": "markdown",
   "metadata": {},
   "source": [
    "Check the data set's numerical features:\n",
    "\n",
    "对数值特征进行例行的数据统计并查看："
   ]
  },
  {
   "cell_type": "code",
   "execution_count": 71,
   "metadata": {},
   "outputs": [
    {
     "data": {
      "text/html": [
       "<div>\n",
       "<table border=\"1\" class=\"dataframe\">\n",
       "  <thead>\n",
       "    <tr style=\"text-align: right;\">\n",
       "      <th></th>\n",
       "      <th>PassengerId</th>\n",
       "      <th>Survived</th>\n",
       "      <th>Pclass</th>\n",
       "      <th>Age</th>\n",
       "      <th>SibSp</th>\n",
       "      <th>Parch</th>\n",
       "      <th>Fare</th>\n",
       "    </tr>\n",
       "  </thead>\n",
       "  <tbody>\n",
       "    <tr>\n",
       "      <th>count</th>\n",
       "      <td>891.000000</td>\n",
       "      <td>891.000000</td>\n",
       "      <td>891.000000</td>\n",
       "      <td>714.000000</td>\n",
       "      <td>891.000000</td>\n",
       "      <td>891.000000</td>\n",
       "      <td>891.000000</td>\n",
       "    </tr>\n",
       "    <tr>\n",
       "      <th>mean</th>\n",
       "      <td>446.000000</td>\n",
       "      <td>0.383838</td>\n",
       "      <td>2.308642</td>\n",
       "      <td>29.699118</td>\n",
       "      <td>0.523008</td>\n",
       "      <td>0.381594</td>\n",
       "      <td>32.204208</td>\n",
       "    </tr>\n",
       "    <tr>\n",
       "      <th>std</th>\n",
       "      <td>257.353842</td>\n",
       "      <td>0.486592</td>\n",
       "      <td>0.836071</td>\n",
       "      <td>14.526497</td>\n",
       "      <td>1.102743</td>\n",
       "      <td>0.806057</td>\n",
       "      <td>49.693429</td>\n",
       "    </tr>\n",
       "    <tr>\n",
       "      <th>min</th>\n",
       "      <td>1.000000</td>\n",
       "      <td>0.000000</td>\n",
       "      <td>1.000000</td>\n",
       "      <td>0.420000</td>\n",
       "      <td>0.000000</td>\n",
       "      <td>0.000000</td>\n",
       "      <td>0.000000</td>\n",
       "    </tr>\n",
       "    <tr>\n",
       "      <th>25%</th>\n",
       "      <td>223.500000</td>\n",
       "      <td>0.000000</td>\n",
       "      <td>2.000000</td>\n",
       "      <td>20.125000</td>\n",
       "      <td>0.000000</td>\n",
       "      <td>0.000000</td>\n",
       "      <td>7.910400</td>\n",
       "    </tr>\n",
       "    <tr>\n",
       "      <th>50%</th>\n",
       "      <td>446.000000</td>\n",
       "      <td>0.000000</td>\n",
       "      <td>3.000000</td>\n",
       "      <td>28.000000</td>\n",
       "      <td>0.000000</td>\n",
       "      <td>0.000000</td>\n",
       "      <td>14.454200</td>\n",
       "    </tr>\n",
       "    <tr>\n",
       "      <th>75%</th>\n",
       "      <td>668.500000</td>\n",
       "      <td>1.000000</td>\n",
       "      <td>3.000000</td>\n",
       "      <td>38.000000</td>\n",
       "      <td>1.000000</td>\n",
       "      <td>0.000000</td>\n",
       "      <td>31.000000</td>\n",
       "    </tr>\n",
       "    <tr>\n",
       "      <th>max</th>\n",
       "      <td>891.000000</td>\n",
       "      <td>1.000000</td>\n",
       "      <td>3.000000</td>\n",
       "      <td>80.000000</td>\n",
       "      <td>8.000000</td>\n",
       "      <td>6.000000</td>\n",
       "      <td>512.329200</td>\n",
       "    </tr>\n",
       "  </tbody>\n",
       "</table>\n",
       "</div>"
      ],
      "text/plain": [
       "       PassengerId    Survived      Pclass         Age       SibSp  \\\n",
       "count   891.000000  891.000000  891.000000  714.000000  891.000000   \n",
       "mean    446.000000    0.383838    2.308642   29.699118    0.523008   \n",
       "std     257.353842    0.486592    0.836071   14.526497    1.102743   \n",
       "min       1.000000    0.000000    1.000000    0.420000    0.000000   \n",
       "25%     223.500000    0.000000    2.000000   20.125000    0.000000   \n",
       "50%     446.000000    0.000000    3.000000   28.000000    0.000000   \n",
       "75%     668.500000    1.000000    3.000000   38.000000    1.000000   \n",
       "max     891.000000    1.000000    3.000000   80.000000    8.000000   \n",
       "\n",
       "            Parch        Fare  \n",
       "count  891.000000  891.000000  \n",
       "mean     0.381594   32.204208  \n",
       "std      0.806057   49.693429  \n",
       "min      0.000000    0.000000  \n",
       "25%      0.000000    7.910400  \n",
       "50%      0.000000   14.454200  \n",
       "75%      0.000000   31.000000  \n",
       "max      6.000000  512.329200  "
      ]
     },
     "execution_count": 71,
     "metadata": {},
     "output_type": "execute_result"
    }
   ],
   "source": [
    "train.describe()"
   ]
  },
  {
   "cell_type": "markdown",
   "metadata": {},
   "source": [
    "Age and Fare can be understood as continuous features, we have performed the following analysis:\n",
    "\n",
    "其中Age和Fare可以理解为连续特征，，我们在下面进行了相应的分析："
   ]
  },
  {
   "cell_type": "markdown",
   "metadata": {},
   "source": [
    "Age and cost histograms:\n",
    "\n",
    "年龄和费用直方图："
   ]
  },
  {
   "cell_type": "code",
   "execution_count": 72,
   "metadata": {},
   "outputs": [
    {
     "data": {
      "image/png": "[encoded data removed]",
      "text/plain": [
       "<matplotlib.figure.Figure at 0xe827090>"
      ]
     },
     "metadata": {},
     "output_type": "display_data"
    }
   ],
   "source": [
    "fig,ax = plt.subplots(nrows=2,ncols=1,figsize=(15,20))\n",
    "train[\"Age\"].hist(ax=ax[0])\n",
    "ax[0].set_title(\"Hist plot of Age\")\n",
    "train[\"Fare\"].hist(ax=ax[1])\n",
    "ax[1].set_title(\"Hist plot of Fare\")\n",
    "plt.show()"
   ]
  },
  {
   "cell_type": "markdown",
   "metadata": {},
   "source": [
    "It shows that the passengers of this trip are mainly young and middle-aged; most of the expenses are in the lower segment and a few are in the high segment.\n",
    "\n",
    "可以看出，本次旅行的乘客以青壮年为主；费用多数在较低段位，少数为高段位。"
   ]
  },
  {
   "cell_type": "markdown",
   "metadata": {
    "collapsed": true
   },
   "source": [
    "The relationship between age and cost and whether been saved:\n",
    "\n",
    "年龄和费用与是否获救之间的关系："
   ]
  },
  {
   "cell_type": "code",
   "execution_count": 73,
   "metadata": {},
   "outputs": [
    {
     "data": {
      "image/png": "[encoded data removed]",
      "text/plain": [
       "<matplotlib.figure.Figure at 0xfaff5b0>"
      ]
     },
     "metadata": {},
     "output_type": "display_data"
    }
   ],
   "source": [
    "fig2,ax2 = plt.subplots(2,1,figsize=(20,20))\n",
    "sns.countplot('Age',hue='Survived',data=train,ax=ax2[0])\n",
    "ax2[0].set_title('Age: Survived vs Dead')\n",
    "sns.countplot('Fare',hue='Survived',data=train,ax=ax2[1])\n",
    "ax2[1].set_title('Fare: Survived vs Dead')\n",
    "plt.show()"
   ]
  },
  {
   "cell_type": "markdown",
   "metadata": {
    "collapsed": true
   },
   "source": [
    "From the above results, it can be seen whether the rescue of Age and Fare is not random and can be used as a comparatively valuable feature. For example, in Age, the unrecovered proportion of young adults is significantly higher than other age groups; in Fare, the higher-cost range has a higher percentage of people rescued.\n",
    "\n",
    "从上面的结果可以看出，在Age和Fare两项上，是否获救都不是随机的,可做作为比较有价值的特征。例如，在Age方面，青壮年的未获救比例显著高于其他年龄段；而在Fare方面，费用较高的区间，获救比例较高。"
   ]
  },
  {
   "cell_type": "markdown",
   "metadata": {
    "collapsed": true
   },
   "source": [
    "Next, analyze the relationship between gender and whether been rescued:\n",
    "\n",
    "接下来分析性别和是否获救的关系："
   ]
  },
  {
   "cell_type": "code",
   "execution_count": 74,
   "metadata": {},
   "outputs": [
    {
     "data": {
      "image/png": "[encoded data removed]",
      "text/plain": [
       "<matplotlib.figure.Figure at 0xe6df030>"
      ]
     },
     "metadata": {},
     "output_type": "display_data"
    }
   ],
   "source": [
    "f,ax=plt.subplots(1,1,figsize=(15,15))\n",
    "sns.countplot('Sex', hue='Survived',data=train,ax=ax)\n",
    "ax.set_title('Sex:Survived vs Dead')\n",
    "plt.show()"
   ]
  },
  {
   "cell_type": "markdown",
   "metadata": {},
   "source": [
    "As shown above, there is a clear relationship between gender and salvage, and the rate of female salvage is significantly higher than that of males and can be directly characterized.\n",
    "\n",
    "如上图所示，性别与是否获救有明显的关系，女性获救率明显高于男性，可以直接作为特征。"
   ]
  },
  {
   "cell_type": "markdown",
   "metadata": {},
   "source": [
    "The relationship between cabin grade, number of family members and whether they are rescued:\n",
    "\n",
    "船舱等级、家人数量与是否获救的关系："
   ]
  },
  {
   "cell_type": "code",
   "execution_count": 75,
   "metadata": {},
   "outputs": [
    {
     "data": {
      "image/png": "[encoded data removed]",
      "text/plain": [
       "<matplotlib.figure.Figure at 0xe93a070>"
      ]
     },
     "metadata": {},
     "output_type": "display_data"
    }
   ],
   "source": [
    "fig2,ax2 = plt.subplots(2,1,figsize=(20,20))\n",
    "sns.countplot('SibSp',hue='Survived',data=train,ax=ax2[0])\n",
    "ax2[0].set_title('SibSp: Survived vs Dead')\n",
    "sns.countplot('Pclass',hue='Survived',data=train,ax=ax2[1])\n",
    "ax2[1].set_title('Pclass: Survived vs Dead')\n",
    "plt.show()"
   ]
  },
  {
   "cell_type": "markdown",
   "metadata": {},
   "source": [
    "It can be seen that the rescue rate of passengers with one or two spouses is relatively high, and there is a significant correlation between the level of cabins and whether they are rescued.\n",
    "\n",
    "可以看出，拥有一个或两个配偶的乘客获救率相对较高，而船舱等级高低与是否获救有显著的相关性。"
   ]
  },
  {
   "cell_type": "markdown",
   "metadata": {},
   "source": [
    "## Preprocessing\n",
    "## 数据预处理"
   ]
  },
  {
   "cell_type": "markdown",
   "metadata": {},
   "source": [
    "Process the passenger seat number and assign the missing value to Unknown.\n",
    "\n",
    "From the passenger seat number data, it can be found that the first letter may represent the cabin number. Extract the character and assigned it to Cabin, which is regarded as the cabin number.\n",
    "\n",
    "对乘客座位号数据进行处理，将缺失值赋值为Unknown。\n",
    "从乘客座位号数据可以发现，第一个字母可能代表了船舱号码，将该字符提取出来，赋值给Cabin，视为船舱号。\n"
   ]
  },
  {
   "cell_type": "code",
   "execution_count": 76,
   "metadata": {},
   "outputs": [
    {
     "name": "stderr",
     "output_type": "stream",
     "text": [
      "c:\\users\\del\\appdata\\local\\programs\\python\\python35-32\\lib\\site-packages\\ipykernel\\__main__.py:3: SettingWithCopyWarning: \n",
      "A value is trying to be set on a copy of a slice from a DataFrame\n",
      "\n",
      "See the caveats in the documentation: http://pandas.pydata.org/pandas-docs/stable/indexing.html#indexing-view-versus-copy\n",
      "  app.launch_new_instance()\n",
      "c:\\users\\del\\appdata\\local\\programs\\python\\python35-32\\lib\\site-packages\\ipykernel\\__main__.py:7: SettingWithCopyWarning: \n",
      "A value is trying to be set on a copy of a slice from a DataFrame\n",
      "\n",
      "See the caveats in the documentation: http://pandas.pydata.org/pandas-docs/stable/indexing.html#indexing-view-versus-copy\n"
     ]
    }
   ],
   "source": [
    "train.Cabin.fillna(\"Unknown\",inplace=True)\n",
    "for i in range(0, 891):\n",
    "    train.Cabin[i]= train.Cabin[i][0]\n",
    "\n",
    "test.Cabin.fillna(\"Unknown\",inplace=True)\n",
    "for i in range(0, 417):\n",
    "    test.Cabin[i]= test.Cabin[i][0]"
   ]
  },
  {
   "cell_type": "markdown",
   "metadata": {},
   "source": [
    "The missing values of age are filled in with the mean of age, and the missing values of the departure port are filled with the mode of departure port.\n",
    "\n",
    "用年龄的均值填充年龄的缺失值，用出发港口的众数填补出发港口的缺失值。"
   ]
  },
  {
   "cell_type": "code",
   "execution_count": 78,
   "metadata": {
    "collapsed": true
   },
   "outputs": [],
   "source": [
    "train.Age.mean()\n",
    "train.Age.fillna(29.7,inplace=True)\n",
    "train.Embarked.fillna(\"S\",inplace=True)\n",
    "\n",
    "test.Age.fillna(29.7,inplace=True)\n",
    "test.Embarked.fillna(\"S\",inplace=True)\n",
    "temp = test.Fare.mean()\n",
    "test.Fare.fillna(temp,inplace=True)"
   ]
  },
  {
   "cell_type": "markdown",
   "metadata": {},
   "source": [
    "According to the above analysis results and the relationship between variables, the age data are segmented into 0-5 years old, 5-15 years old, 15-20 years old, 20-35 years old, 35-50 years old, 50-60 years old, 60-100 years old 7 paragraphs.\n",
    "The Parch variable is divided into three segments with a number of zero, a number of one or two, and a number greater than two. Divide the SibSp variable into a number of 0, a number of 1 or 2, and a number greater than two. The Cabin variable is divided into two parts: missing and not missing.\n",
    "\n",
    "根据以上分析结果和变量间的关系，将年龄数据分段为0-5岁、5-15岁、15-20岁、20-35岁、35-50岁、50-60岁、60-100岁7段。\n",
    "将Parch变量分成数目为0、数目为1或2、数目为大于2三段。将SibSp变量分成数目为0、数目为1或2、数目为大于2三段。将Cabin变量分为缺失和没有缺失两段。"
   ]
  },
  {
   "cell_type": "code",
   "execution_count": 79,
   "metadata": {},
   "outputs": [
    {
     "name": "stderr",
     "output_type": "stream",
     "text": [
      "c:\\users\\del\\appdata\\local\\programs\\python\\python35-32\\lib\\site-packages\\ipykernel\\__main__.py:4: SettingWithCopyWarning: \n",
      "A value is trying to be set on a copy of a slice from a DataFrame\n",
      "\n",
      "See the caveats in the documentation: http://pandas.pydata.org/pandas-docs/stable/indexing.html#indexing-view-versus-copy\n",
      "c:\\users\\del\\appdata\\local\\programs\\python\\python35-32\\lib\\site-packages\\ipykernel\\__main__.py:5: SettingWithCopyWarning: \n",
      "A value is trying to be set on a copy of a slice from a DataFrame\n",
      "\n",
      "See the caveats in the documentation: http://pandas.pydata.org/pandas-docs/stable/indexing.html#indexing-view-versus-copy\n",
      "c:\\users\\del\\appdata\\local\\programs\\python\\python35-32\\lib\\site-packages\\ipykernel\\__main__.py:6: SettingWithCopyWarning: \n",
      "A value is trying to be set on a copy of a slice from a DataFrame\n",
      "\n",
      "See the caveats in the documentation: http://pandas.pydata.org/pandas-docs/stable/indexing.html#indexing-view-versus-copy\n",
      "c:\\users\\del\\appdata\\local\\programs\\python\\python35-32\\lib\\site-packages\\ipykernel\\__main__.py:7: SettingWithCopyWarning: \n",
      "A value is trying to be set on a copy of a slice from a DataFrame\n",
      "\n",
      "See the caveats in the documentation: http://pandas.pydata.org/pandas-docs/stable/indexing.html#indexing-view-versus-copy\n",
      "c:\\users\\del\\appdata\\local\\programs\\python\\python35-32\\lib\\site-packages\\ipykernel\\__main__.py:8: SettingWithCopyWarning: \n",
      "A value is trying to be set on a copy of a slice from a DataFrame\n",
      "\n",
      "See the caveats in the documentation: http://pandas.pydata.org/pandas-docs/stable/indexing.html#indexing-view-versus-copy\n",
      "c:\\users\\del\\appdata\\local\\programs\\python\\python35-32\\lib\\site-packages\\ipykernel\\__main__.py:10: SettingWithCopyWarning: \n",
      "A value is trying to be set on a copy of a slice from a DataFrame\n",
      "\n",
      "See the caveats in the documentation: http://pandas.pydata.org/pandas-docs/stable/indexing.html#indexing-view-versus-copy\n",
      "c:\\users\\del\\appdata\\local\\programs\\python\\python35-32\\lib\\site-packages\\ipykernel\\__main__.py:11: SettingWithCopyWarning: \n",
      "A value is trying to be set on a copy of a slice from a DataFrame\n",
      "\n",
      "See the caveats in the documentation: http://pandas.pydata.org/pandas-docs/stable/indexing.html#indexing-view-versus-copy\n",
      "c:\\users\\del\\appdata\\local\\programs\\python\\python35-32\\lib\\site-packages\\ipykernel\\__main__.py:12: SettingWithCopyWarning: \n",
      "A value is trying to be set on a copy of a slice from a DataFrame\n",
      "\n",
      "See the caveats in the documentation: http://pandas.pydata.org/pandas-docs/stable/indexing.html#indexing-view-versus-copy\n",
      "c:\\users\\del\\appdata\\local\\programs\\python\\python35-32\\lib\\site-packages\\ipykernel\\__main__.py:13: SettingWithCopyWarning: \n",
      "A value is trying to be set on a copy of a slice from a DataFrame\n",
      "\n",
      "See the caveats in the documentation: http://pandas.pydata.org/pandas-docs/stable/indexing.html#indexing-view-versus-copy\n",
      "c:\\users\\del\\appdata\\local\\programs\\python\\python35-32\\lib\\site-packages\\ipykernel\\__main__.py:14: SettingWithCopyWarning: \n",
      "A value is trying to be set on a copy of a slice from a DataFrame\n",
      "\n",
      "See the caveats in the documentation: http://pandas.pydata.org/pandas-docs/stable/indexing.html#indexing-view-versus-copy\n"
     ]
    }
   ],
   "source": [
    "test.age=pd.cut(test.Age,[0,5,15,20,35,50,60,100])\n",
    "train.age=pd.cut(train.Age,[0,5,15,20,35,50,60,100])\n",
    "\n",
    "train.Parch[(train.Parch>0) & (train.Parch<=2)]=1\n",
    "train.Parch[train.Parch>2]=2\n",
    "train.SibSp[(train.SibSp>0) & (train.SibSp<=2)]=1\n",
    "train.SibSp[train.SibSp>2]=2\n",
    "train.Cabin[train.Cabin!=\"U\"]=\"K\"\n",
    "\n",
    "test.Parch[(test.Parch>0) & (test.Parch<=2)]=1\n",
    "test.Parch[test.Parch>2]=2\n",
    "test.SibSp[(test.SibSp>0) & (test.SibSp<=2)]=1\n",
    "test.SibSp[test.SibSp>2]=2\n",
    "test.Cabin[test.Cabin!=\"U\"]=\"K\""
   ]
  },
  {
   "cell_type": "markdown",
   "metadata": {},
   "source": [
    "Create dummy variables for Pclass, Sex, Embarked, Parch, SibSp, Cabin variables.\n",
    "\n",
    "为Pclass、Sex、Embarked、Parch、SibSp、Cabin变量创建虚拟变量。"
   ]
  },
  {
   "cell_type": "code",
   "execution_count": 80,
   "metadata": {
    "collapsed": true
   },
   "outputs": [],
   "source": [
    "dummy_Pclass = pd.get_dummies(train.Pclass, prefix='Pclass')\n",
    "dummy_Sex = pd.get_dummies(train.Sex, prefix='Sex')\n",
    "dummy_Embarked = pd.get_dummies(train.Embarked, prefix='Embarked')\n",
    "dummy_Parch = pd.get_dummies(train.Parch, prefix='Parch')\n",
    "dummy_SibSp = pd.get_dummies(train.SibSp, prefix='SibSp')\n",
    "dummy_Age = pd.get_dummies(train.age, prefix='Age')\n",
    "dummy_Cabin = pd.get_dummies(train.Cabin, prefix='Cabin')\n",
    "\n",
    "dummy_PclassT = pd.get_dummies(test.Pclass, prefix='Pclass')\n",
    "dummy_SexT = pd.get_dummies(test.Sex, prefix='Sex')\n",
    "dummy_EmbarkedT = pd.get_dummies(test.Embarked, prefix='Embarked')\n",
    "dummy_ParchT = pd.get_dummies(test.Parch, prefix='Parch')\n",
    "dummy_SibSpT = pd.get_dummies(test.SibSp, prefix='SibSp')\n",
    "dummy_AgeT = pd.get_dummies(test.age, prefix='Age')\n",
    "dummy_CabinT = pd.get_dummies(test.Cabin, prefix='Cabin')"
   ]
  },
  {
   "cell_type": "code",
   "execution_count": 81,
   "metadata": {},
   "outputs": [],
   "source": [
    "from sklearn.linear_model import LogisticRegression\n",
    "from sklearn.metrics import confusion_matrix, roc_curve,roc_auc_score,classification_report"
   ]
  },
  {
   "cell_type": "markdown",
   "metadata": {
    "collapsed": true
   },
   "source": [
    "Create a training set\n",
    "\n",
    "Divide the training set and use passengers numbered 0-623 as the training set. Remove the PassengerId and Name variables and add the constant term Intercept. The dependent variable is whether the passenger is rescued. The independent variables are passenger fare, gender, number of embarkation terminals, number of parents and children, number of siblings and spouses, age, cabin. Except the fare, all are dummy variables. Taking into account the linear correlation between Fare and Pclass, remove the Pclass variable.\n",
    "\n",
    "创建训练集\n",
    "\n",
    "划分训练集，将编号为0-623的乘客作为训练集。去除PassengerId和Name变量，添加常数项Intercept. 因变量为乘客是否获救，自变量为乘客的票价、性别、登船码头、父母与子女数目、兄弟姐妹与配偶数目、年龄、船舱。除票价外，都为虚拟变量。考虑到Fare和Pclass之间的线性相关性，剔除Pclass变量。"
   ]
  },
  {
   "cell_type": "code",
   "execution_count": 82,
   "metadata": {},
   "outputs": [],
   "source": [
    "train_y = train[:][\"Survived\"]\n",
    "cols_to_keep = [\"Fare\"]\n",
    "train_x = train[:][cols_to_keep].join(dummy_Sex.ix[:, \"Sex_male\":]).join(dummy_Embarked.ix[:,\"Embarked_Q\":]).join(dummy_Parch.ix[:,\"Parch_1\":]).join(dummy_SibSp.ix[:,\"SibSp_1\":]).join(dummy_Age.ix[:,\"Age_(5, 15]\":]).join(dummy_Cabin.ix[:,\"Cabin_U\" :])\n",
    "train_x['intercept'] = 1.0"
   ]
  },
  {
   "cell_type": "markdown",
   "metadata": {},
   "source": [
    "## Build models and train\n",
    "## 构建模型并训练"
   ]
  },
  {
   "cell_type": "markdown",
   "metadata": {},
   "source": [
    "### Use Logistic Regression for training\n",
    "### 利用逻辑回归进行训练"
   ]
  },
  {
   "cell_type": "code",
   "execution_count": 83,
   "metadata": {},
   "outputs": [
    {
     "data": {
      "text/plain": [
       "LogisticRegression(C=1.0, class_weight=None, dual=False, fit_intercept=True,\n",
       "          intercept_scaling=1, max_iter=100, multi_class='ovr', n_jobs=1,\n",
       "          penalty='l2', random_state=None, solver='liblinear', tol=0.0001,\n",
       "          verbose=0, warm_start=False)"
      ]
     },
     "execution_count": 83,
     "metadata": {},
     "output_type": "execute_result"
    }
   ],
   "source": [
    "#对训练集构建逻辑斯蒂模型\n",
    "clf = LogisticRegression()\n",
    "clf.fit(train_x,train_y)"
   ]
  },
  {
   "cell_type": "markdown",
   "metadata": {},
   "source": [
    "划分测试集"
   ]
  },
  {
   "cell_type": "code",
   "execution_count": 84,
   "metadata": {},
   "outputs": [],
   "source": [
    "result = pd.read_csv(\"titanic/gender_submission.csv\")\n",
    "test_y = result[:][\"Survived\"]\n",
    "cols_to_keepT = [\"Fare\"]\n",
    "test_x = test[:][cols_to_keepT].join(dummy_SexT.ix[:, \"Sex_male\":]).join(dummy_EmbarkedT.ix[:,\"Embarked_Q\":]).join(dummy_ParchT.ix[:,\"Parch_1\":]).join(dummy_SibSpT.ix[:,\"SibSp_1\":]).join(dummy_AgeT.ix[:,\"Age_(5, 15]\":]).join(dummy_CabinT.ix[:,\"Cabin_U\" :])\n",
    "test_x['intercept'] = 1.0"
   ]
  },
  {
   "cell_type": "code",
   "execution_count": 85,
   "metadata": {},
   "outputs": [
    {
     "name": "stdout",
     "output_type": "stream",
     "text": [
      "0.986075385833\n"
     ]
    },
    {
     "data": {
      "image/png": "[encoded data removed]",
      "text/plain": [
       "<matplotlib.figure.Figure at 0xe7711b0>"
      ]
     },
     "metadata": {},
     "output_type": "display_data"
    }
   ],
   "source": [
    "res = clf.predict(test_x)\n",
    "clf.predict_proba(test_x)\n",
    "\n",
    "\n",
    "pre = clf.predict_proba(test_x)\n",
    "print(roc_auc_score(test_y,pre[:,1]))\n",
    "\n",
    "fpr,tpr,thresholds = roc_curve(test_y,pre[:,1])\n",
    "fig,ax = plt.subplots(figsize=(8,5))\n",
    "plt.plot(fpr,tpr)\n",
    "ax.set_title(\"Roc of Logistic Regression\")\n",
    "plt.show()"
   ]
  },
  {
   "cell_type": "markdown",
   "metadata": {},
   "source": [
    "According to the LR ROC curve, when the false positive rate is extremely low, the sensitivity has reached a very high level. Indicating that the model can accurately distinguish whether to be rescued in this data set.\n",
    "\n",
    "根据LR的ROC曲线大致判断，假阳性率极低的时候，敏感度已经达到一个很高的水准，说明该模型在这个数据集中能够相当准确地区分判断是否获救。"
   ]
  },
  {
   "cell_type": "markdown",
   "metadata": {},
   "source": [
    "Extract the result of Logistic Regression.\n",
    "\n",
    "导出LR结果"
   ]
  },
  {
   "cell_type": "code",
   "execution_count": 86,
   "metadata": {},
   "outputs": [],
   "source": [
    "output = pd.DataFrame( data={\"PassengerId\":test[\"PassengerId\"], \"Survived\":res} )\n",
    "output.to_csv( \"Titanic_LR.csv\", index=False, quoting=3 )"
   ]
  },
  {
   "cell_type": "markdown",
   "metadata": {},
   "source": [
    "### Use decision trees for training\n",
    "### 利用决策树进行训练"
   ]
  },
  {
   "cell_type": "code",
   "execution_count": 87,
   "metadata": {},
   "outputs": [
    {
     "name": "stdout",
     "output_type": "stream",
     "text": [
      "0.836886624456\n"
     ]
    },
    {
     "data": {
      "image/png": "[encoded data removed]",
      "text/plain": [
       "<matplotlib.figure.Figure at 0xea54750>"
      ]
     },
     "metadata": {},
     "output_type": "display_data"
    }
   ],
   "source": [
    "from sklearn import tree\n",
    "clfT = tree.DecisionTreeClassifier()\n",
    "clfT = clfT.fit(train_x,train_y)\n",
    "resT = clfT.predict(test_x)\n",
    "preT = clfT.predict_proba(test_x)\n",
    "print(roc_auc_score(test_y,preT[:,1]))\n",
    "fprT,tprT,thresholdsT = roc_curve(test_y,preT[:,1])\n",
    "figT,axT = plt.subplots(figsize=(8,5))\n",
    "plt.plot(fprT,tprT)\n",
    "ax.set_title(\"Roc of DecisionTree\")\n",
    "plt.show()"
   ]
  },
  {
   "cell_type": "markdown",
   "metadata": {},
   "source": [
    "From the ROC curve of the decision tree, under this data set this model is not stable enough and the miscarriage rate is high.\n",
    "\n",
    "从决策树的ROC曲线来看，在本数据集下这是一个不够稳定的模型，误判率较高。"
   ]
  },
  {
   "cell_type": "markdown",
   "metadata": {},
   "source": [
    "Out put the result of decision tree.\n",
    "\n",
    "导出决策树结果。"
   ]
  },
  {
   "cell_type": "code",
   "execution_count": 88,
   "metadata": {},
   "outputs": [],
   "source": [
    "output = pd.DataFrame( data={\"PassengerId\":test[\"PassengerId\"], \"Survived\":resT} )\n",
    "output.to_csv( \"Titanic_DT.csv\", index=False, quoting=3 )"
   ]
  },
  {
   "cell_type": "markdown",
   "metadata": {},
   "source": [
    "### Use Naive Bayes for training\n",
    "### 利用朴素贝叶斯进行训练"
   ]
  },
  {
   "cell_type": "code",
   "execution_count": 89,
   "metadata": {},
   "outputs": [
    {
     "name": "stdout",
     "output_type": "stream",
     "text": [
      "0.964978235061\n"
     ]
    },
    {
     "data": {
      "image/png": "[encoded data removed]",
      "text/plain": [
       "<matplotlib.figure.Figure at 0xe7966b0>"
      ]
     },
     "metadata": {},
     "output_type": "display_data"
    }
   ],
   "source": [
    "from sklearn.naive_bayes import BernoulliNB\n",
    "#朴素贝叶斯\n",
    "clfB = BernoulliNB().fit(train_x,train_y)\n",
    "clfB.predict(test_x)\n",
    "resB = clf.predict(test_x)\n",
    "preB = clfB.predict_proba(test_x)\n",
    "print(roc_auc_score(test_y,preB[:,1]))\n",
    "fprB,tprB,thresholdsB = roc_curve(test_y,preB[:,1])\n",
    "figB,axB = plt.subplots(figsize=(8,5))\n",
    "plt.plot(fprB,tprB)\n",
    "ax.set_title(\"Roc of NaiveBayes\")\n",
    "plt.show()"
   ]
  },
  {
   "cell_type": "markdown",
   "metadata": {},
   "source": [
    "Naive Bayes's ROC curve shows that the model can achieve relatively high accuracy with a low misjudgment rate. Relatively speaking, it is easier to misreport unrecovered passengers as being rescued and make the rescue rate high.\n",
    "\n",
    "朴素贝叶斯的ROC曲线表明该模型能够在误判率较低的情况下达到比较高的准确率，相对来说，更容易将未获救乘客误判为获救，使获救率虚高。"
   ]
  },
  {
   "cell_type": "markdown",
   "metadata": {},
   "source": [
    "Export the result of Naive Bayes\n",
    "\n",
    "导出贝叶斯结果"
   ]
  },
  {
   "cell_type": "code",
   "execution_count": 90,
   "metadata": {},
   "outputs": [],
   "source": [
    "output = pd.DataFrame( data={\"PassengerId\":test[\"PassengerId\"], \"Survived\":resB} )\n",
    "output.to_csv( \"Titanic_NB_Ber.csv\", index=False, quoting=3 )"
   ]
  },
  {
   "cell_type": "markdown",
   "metadata": {},
   "source": [
    "### Use SVM for training\n",
    "### 利用支持向量机（SVM）进行训练"
   ]
  },
  {
   "cell_type": "code",
   "execution_count": 91,
   "metadata": {},
   "outputs": [
    {
     "data": {
      "text/plain": [
       "array([[ 0.84505381,  0.15494619],\n",
       "       [ 0.41454933,  0.58545067],\n",
       "       [ 0.82769161,  0.17230839],\n",
       "       [ 0.84720455,  0.15279545],\n",
       "       [ 0.23919963,  0.76080037],\n",
       "       [ 0.79467305,  0.20532695],\n",
       "       [ 0.23038562,  0.76961438],\n",
       "       [ 0.57323815,  0.42676185],\n",
       "       [ 0.27758025,  0.72241975],\n",
       "       [ 0.86032073,  0.13967927],\n",
       "       [ 0.8457751 ,  0.1542249 ],\n",
       "       [ 0.85565219,  0.14434781],\n",
       "       [ 0.18931101,  0.81068899],\n",
       "       [ 0.82877828,  0.17122172],\n",
       "       [ 0.51664246,  0.48335754],\n",
       "       [ 0.32536741,  0.67463259],\n",
       "       [ 0.82535059,  0.17464941],\n",
       "       [ 0.84536637,  0.15463363],\n",
       "       [ 0.32640804,  0.67359196],\n",
       "       [ 0.31396981,  0.68603019],\n",
       "       [ 0.34368314,  0.65631686],\n",
       "       [ 0.83098814,  0.16901186],\n",
       "       [ 0.47882592,  0.52117408],\n",
       "       [ 0.52530511,  0.47469489],\n",
       "       [ 0.29536216,  0.70463784],\n",
       "       [ 0.85777627,  0.14222373],\n",
       "       [ 0.452851  ,  0.547149  ],\n",
       "       [ 0.84536637,  0.15463363],\n",
       "       [ 0.72015863,  0.27984137],\n",
       "       [ 0.77705694,  0.22294306],\n",
       "       [ 0.84538686,  0.15461314],\n",
       "       [ 0.61888432,  0.38111568],\n",
       "       [ 0.34212812,  0.65787188],\n",
       "       [ 0.32223997,  0.67776003],\n",
       "       [ 0.19554409,  0.80445591],\n",
       "       [ 0.83621627,  0.16378373],\n",
       "       [ 0.25705173,  0.74294827],\n",
       "       [ 0.24014735,  0.75985265],\n",
       "       [ 0.84792928,  0.15207072],\n",
       "       [ 0.19809193,  0.80190807],\n",
       "       [ 0.80800444,  0.19199556],\n",
       "       [ 0.67028036,  0.32971964],\n",
       "       [ 0.8483351 ,  0.1516649 ],\n",
       "       [ 0.21294312,  0.78705688],\n",
       "       [ 0.24176196,  0.75823804],\n",
       "       [ 0.84581933,  0.15418067],\n",
       "       [ 0.7788617 ,  0.2211383 ],\n",
       "       [ 0.84537154,  0.15462846],\n",
       "       [ 0.19265251,  0.80734749],\n",
       "       [ 0.274367  ,  0.725633  ],\n",
       "       [ 0.45223858,  0.54776142],\n",
       "       [ 0.84554343,  0.15445657],\n",
       "       [ 0.29376646,  0.70623354],\n",
       "       [ 0.19810932,  0.80189068],\n",
       "       [ 0.8349072 ,  0.1650928 ],\n",
       "       [ 0.8862213 ,  0.1137787 ],\n",
       "       [ 0.8457751 ,  0.1542249 ],\n",
       "       [ 0.84392044,  0.15607956],\n",
       "       [ 0.84546697,  0.15453303],\n",
       "       [ 0.25512551,  0.74487449],\n",
       "       [ 0.84536752,  0.15463248],\n",
       "       [ 0.84936462,  0.15063538],\n",
       "       [ 0.84542374,  0.15457626],\n",
       "       [ 0.22608219,  0.77391781],\n",
       "       [ 0.28505915,  0.71494085],\n",
       "       [ 0.3803295 ,  0.6196705 ],\n",
       "       [ 0.22624996,  0.77375004],\n",
       "       [ 0.84436331,  0.15563669],\n",
       "       [ 0.63404012,  0.36595988],\n",
       "       [ 0.33055463,  0.66944537],\n",
       "       [ 0.22501183,  0.77498817],\n",
       "       [ 0.8457751 ,  0.1542249 ],\n",
       "       [ 0.26160675,  0.73839325],\n",
       "       [ 0.68997181,  0.31002819],\n",
       "       [ 0.23703956,  0.76296044],\n",
       "       [ 0.27910438,  0.72089562],\n",
       "       [ 0.84602516,  0.15397484],\n",
       "       [ 0.16104133,  0.83895867],\n",
       "       [ 0.84544976,  0.15455024],\n",
       "       [ 0.22501183,  0.77498817],\n",
       "       [ 0.66547058,  0.33452942],\n",
       "       [ 0.69411385,  0.30588615],\n",
       "       [ 0.85565219,  0.14434781],\n",
       "       [ 0.8457751 ,  0.1542249 ],\n",
       "       [ 0.82400526,  0.17599474],\n",
       "       [ 0.8502938 ,  0.1497062 ],\n",
       "       [ 0.21981352,  0.78018648],\n",
       "       [ 0.27864259,  0.72135741],\n",
       "       [ 0.22501183,  0.77498817],\n",
       "       [ 0.78773783,  0.21226217],\n",
       "       [ 0.29635096,  0.70364904],\n",
       "       [ 0.84561011,  0.15438989],\n",
       "       [ 0.17798853,  0.82201147],\n",
       "       [ 0.84602516,  0.15397484],\n",
       "       [ 0.86108699,  0.13891301],\n",
       "       [ 0.84563634,  0.15436366],\n",
       "       [ 0.19359674,  0.80640326],\n",
       "       [ 0.84581933,  0.15418067],\n",
       "       [ 0.28688888,  0.71311112],\n",
       "       [ 0.84602516,  0.15397484],\n",
       "       [ 0.15932033,  0.84067967],\n",
       "       [ 0.81465706,  0.18534294],\n",
       "       [ 0.84537154,  0.15462846],\n",
       "       [ 0.84561011,  0.15438989],\n",
       "       [ 0.29882701,  0.70117299],\n",
       "       [ 0.84539258,  0.15460742],\n",
       "       [ 0.84508809,  0.15491191],\n",
       "       [ 0.84537154,  0.15462846],\n",
       "       [ 0.847295  ,  0.152705  ],\n",
       "       [ 0.78307732,  0.21692268],\n",
       "       [ 0.85518538,  0.14481462],\n",
       "       [ 0.22378857,  0.77621143],\n",
       "       [ 0.66616406,  0.33383594],\n",
       "       [ 0.25885565,  0.74114435],\n",
       "       [ 0.66846164,  0.33153836],\n",
       "       [ 0.85643479,  0.14356521],\n",
       "       [ 0.84536079,  0.15463921],\n",
       "       [ 0.19807922,  0.80192078],\n",
       "       [ 0.3510402 ,  0.6489598 ],\n",
       "       [ 0.23830418,  0.76169582],\n",
       "       [ 0.28645499,  0.71354501],\n",
       "       [ 0.85639386,  0.14360614],\n",
       "       [ 0.15840184,  0.84159816],\n",
       "       [ 0.84530719,  0.15469281],\n",
       "       [ 0.84537154,  0.15462846],\n",
       "       [ 0.31493898,  0.68506102],\n",
       "       [ 0.84563634,  0.15436366],\n",
       "       [ 0.256148  ,  0.743852  ],\n",
       "       [ 0.84545564,  0.15454436],\n",
       "       [ 0.84602516,  0.15397484],\n",
       "       [ 0.84602516,  0.15397484],\n",
       "       [ 0.77690247,  0.22309753],\n",
       "       [ 0.32348167,  0.67651833],\n",
       "       [ 0.8496905 ,  0.1503095 ],\n",
       "       [ 0.84836812,  0.15163188],\n",
       "       [ 0.84571491,  0.15428509],\n",
       "       [ 0.84536637,  0.15463363],\n",
       "       [ 0.84544976,  0.15455024],\n",
       "       [ 0.25705173,  0.74294827],\n",
       "       [ 0.87510137,  0.12489863],\n",
       "       [ 0.82636458,  0.17363542],\n",
       "       [ 0.19812944,  0.80187056],\n",
       "       [ 0.3979513 ,  0.6020487 ],\n",
       "       [ 0.83996871,  0.16003129],\n",
       "       [ 0.85599138,  0.14400862],\n",
       "       [ 0.75726725,  0.24273275],\n",
       "       [ 0.58914932,  0.41085068],\n",
       "       [ 0.84602516,  0.15397484],\n",
       "       [ 0.8195459 ,  0.1804541 ],\n",
       "       [ 0.77986672,  0.22013328],\n",
       "       [ 0.17071016,  0.82928984],\n",
       "       [ 0.84530167,  0.15469833],\n",
       "       [ 0.87126671,  0.12873329],\n",
       "       [ 0.21062856,  0.78937144],\n",
       "       [ 0.87350841,  0.12649159],\n",
       "       [ 0.84539172,  0.15460828],\n",
       "       [ 0.7291525 ,  0.2708475 ],\n",
       "       [ 0.264391  ,  0.735609  ],\n",
       "       [ 0.7261452 ,  0.2738548 ],\n",
       "       [ 0.20359602,  0.79640398],\n",
       "       [ 0.22572446,  0.77427554],\n",
       "       [ 0.66547058,  0.33452942],\n",
       "       [ 0.23018259,  0.76981741],\n",
       "       [ 0.84542509,  0.15457491],\n",
       "       [ 0.84545564,  0.15454436],\n",
       "       [ 0.35588594,  0.64411406],\n",
       "       [ 0.72432126,  0.27567874],\n",
       "       [ 0.87448121,  0.12551879],\n",
       "       [ 0.38032968,  0.61967032],\n",
       "       [ 0.23418502,  0.76581498],\n",
       "       [ 0.84539172,  0.15460828],\n",
       "       [ 0.84536637,  0.15463363],\n",
       "       [ 0.85911938,  0.14088062],\n",
       "       [ 0.84536634,  0.15463366],\n",
       "       [ 0.84672396,  0.15327604],\n",
       "       [ 0.66847639,  0.33152361],\n",
       "       [ 0.77357182,  0.22642818],\n",
       "       [ 0.21235228,  0.78764772],\n",
       "       [ 0.70015532,  0.29984468],\n",
       "       [ 0.17746405,  0.82253595],\n",
       "       [ 0.84544976,  0.15455024],\n",
       "       [ 0.26827176,  0.73172824],\n",
       "       [ 0.25099095,  0.74900905],\n",
       "       [ 0.84537154,  0.15462846],\n",
       "       [ 0.43042399,  0.56957601],\n",
       "       [ 0.82544064,  0.17455936],\n",
       "       [ 0.28632779,  0.71367221],\n",
       "       [ 0.85279318,  0.14720682],\n",
       "       [ 0.8206741 ,  0.1793259 ],\n",
       "       [ 0.84545564,  0.15454436],\n",
       "       [ 0.81465706,  0.18534294],\n",
       "       [ 0.83996871,  0.16003129],\n",
       "       [ 0.68060563,  0.31939437],\n",
       "       [ 0.81028358,  0.18971642],\n",
       "       [ 0.85223933,  0.14776067],\n",
       "       [ 0.84571491,  0.15428509],\n",
       "       [ 0.24059227,  0.75940773],\n",
       "       [ 0.29058015,  0.70941985],\n",
       "       [ 0.84547636,  0.15452364],\n",
       "       [ 0.25493681,  0.74506319],\n",
       "       [ 0.36189567,  0.63810433],\n",
       "       [ 0.74356256,  0.25643744],\n",
       "       [ 0.22815926,  0.77184074],\n",
       "       [ 0.20028944,  0.79971056],\n",
       "       [ 0.84547636,  0.15452364],\n",
       "       [ 0.86097565,  0.13902435],\n",
       "       [ 0.22501183,  0.77498817],\n",
       "       [ 0.84547636,  0.15452364],\n",
       "       [ 0.24750789,  0.75249211],\n",
       "       [ 0.8457751 ,  0.1542249 ],\n",
       "       [ 0.84539258,  0.15460742],\n",
       "       [ 0.84538818,  0.15461182],\n",
       "       [ 0.83197887,  0.16802113],\n",
       "       [ 0.27270251,  0.72729749],\n",
       "       [ 0.31871843,  0.68128157],\n",
       "       [ 0.80690149,  0.19309851],\n",
       "       [ 0.21981352,  0.78018648],\n",
       "       [ 0.21908326,  0.78091674],\n",
       "       [ 0.24422413,  0.75577587],\n",
       "       [ 0.84602516,  0.15397484],\n",
       "       [ 0.30138112,  0.69861888],\n",
       "       [ 0.84602516,  0.15397484],\n",
       "       [ 0.19812666,  0.80187334],\n",
       "       [ 0.84563634,  0.15436366],\n",
       "       [ 0.5       ,  0.5       ],\n",
       "       [ 0.25395473,  0.74604527],\n",
       "       [ 0.84563634,  0.15436366],\n",
       "       [ 0.22501183,  0.77498817],\n",
       "       [ 0.84902521,  0.15097479],\n",
       "       [ 0.84545564,  0.15454436],\n",
       "       [ 0.2872483 ,  0.7127517 ],\n",
       "       [ 0.27698684,  0.72301316],\n",
       "       [ 0.84914593,  0.15085407],\n",
       "       [ 0.84484682,  0.15515318],\n",
       "       [ 0.52742787,  0.47257213],\n",
       "       [ 0.84537762,  0.15462238],\n",
       "       [ 0.37886558,  0.62113442],\n",
       "       [ 0.83623431,  0.16376569],\n",
       "       [ 0.25347731,  0.74652269],\n",
       "       [ 0.38323488,  0.61676512],\n",
       "       [ 0.51880467,  0.48119533],\n",
       "       [ 0.59746717,  0.40253283],\n",
       "       [ 0.21399779,  0.78600221],\n",
       "       [ 0.84576282,  0.15423718],\n",
       "       [ 0.84114419,  0.15885581],\n",
       "       [ 0.48468581,  0.51531419],\n",
       "       [ 0.3803295 ,  0.6196705 ],\n",
       "       [ 0.86277689,  0.13722311],\n",
       "       [ 0.23830418,  0.76169582],\n",
       "       [ 0.33066623,  0.66933377],\n",
       "       [ 0.24096016,  0.75903984],\n",
       "       [ 0.84536316,  0.15463684],\n",
       "       [ 0.28781365,  0.71218635],\n",
       "       [ 0.847959  ,  0.152041  ],\n",
       "       [ 0.84792928,  0.15207072],\n",
       "       [ 0.84539172,  0.15460828],\n",
       "       [ 0.84537154,  0.15462846],\n",
       "       [ 0.84602516,  0.15397484],\n",
       "       [ 0.25377147,  0.74622853],\n",
       "       [ 0.84561011,  0.15438989],\n",
       "       [ 0.78761619,  0.21238381],\n",
       "       [ 0.84571491,  0.15428509],\n",
       "       [ 0.32255485,  0.67744515],\n",
       "       [ 0.21467549,  0.78532451],\n",
       "       [ 0.83388779,  0.16611221],\n",
       "       [ 0.8457751 ,  0.1542249 ],\n",
       "       [ 0.84535523,  0.15464477],\n",
       "       [ 0.84539172,  0.15460828],\n",
       "       [ 0.25705173,  0.74294827],\n",
       "       [ 0.84578993,  0.15421007],\n",
       "       [ 0.3510402 ,  0.6489598 ],\n",
       "       [ 0.84537154,  0.15462846],\n",
       "       [ 0.25592213,  0.74407787],\n",
       "       [ 0.39548989,  0.60451011],\n",
       "       [ 0.84536637,  0.15463363],\n",
       "       [ 0.19813623,  0.80186377],\n",
       "       [ 0.84547636,  0.15452364],\n",
       "       [ 0.84538686,  0.15461314],\n",
       "       [ 0.84683447,  0.15316553],\n",
       "       [ 0.84547636,  0.15452364],\n",
       "       [ 0.24014735,  0.75985265],\n",
       "       [ 0.75592746,  0.24407254],\n",
       "       [ 0.22501183,  0.77498817],\n",
       "       [ 0.24221024,  0.75778976],\n",
       "       [ 0.28140052,  0.71859948],\n",
       "       [ 0.84793517,  0.15206483],\n",
       "       [ 0.84530719,  0.15469281],\n",
       "       [ 0.27933461,  0.72066539],\n",
       "       [ 0.84648504,  0.15351496],\n",
       "       [ 0.84602516,  0.15397484],\n",
       "       [ 0.86283025,  0.13716975],\n",
       "       [ 0.27112112,  0.72887888],\n",
       "       [ 0.84536634,  0.15463366],\n",
       "       [ 0.26879535,  0.73120465],\n",
       "       [ 0.8471091 ,  0.1528909 ],\n",
       "       [ 0.8457751 ,  0.1542249 ],\n",
       "       [ 0.51148699,  0.48851301],\n",
       "       [ 0.77705694,  0.22294306],\n",
       "       [ 0.85708557,  0.14291443],\n",
       "       [ 0.84571491,  0.15428509],\n",
       "       [ 0.84561011,  0.15438989],\n",
       "       [ 0.77200257,  0.22799743],\n",
       "       [ 0.66892714,  0.33107286],\n",
       "       [ 0.84720455,  0.15279545],\n",
       "       [ 0.22501183,  0.77498817],\n",
       "       [ 0.16306132,  0.83693868],\n",
       "       [ 0.29711093,  0.70288907],\n",
       "       [ 0.82715275,  0.17284725],\n",
       "       [ 0.21068187,  0.78931813],\n",
       "       [ 0.33764918,  0.66235082],\n",
       "       [ 0.84578993,  0.15421007],\n",
       "       [ 0.84536637,  0.15463363],\n",
       "       [ 0.84540974,  0.15459026],\n",
       "       [ 0.2719706 ,  0.7280294 ],\n",
       "       [ 0.21993479,  0.78006521],\n",
       "       [ 0.23292331,  0.76707669],\n",
       "       [ 0.20762069,  0.79237931],\n",
       "       [ 0.84462521,  0.15537479],\n",
       "       [ 0.84571491,  0.15428509],\n",
       "       [ 0.61888432,  0.38111568],\n",
       "       [ 0.84561011,  0.15438989],\n",
       "       [ 0.84648504,  0.15351496],\n",
       "       [ 0.76912865,  0.23087135],\n",
       "       [ 0.8195459 ,  0.1804541 ],\n",
       "       [ 0.19761457,  0.80238543],\n",
       "       [ 0.84538818,  0.15461182],\n",
       "       [ 0.4556437 ,  0.5443563 ],\n",
       "       [ 0.30810425,  0.69189575],\n",
       "       [ 0.81465706,  0.18534294],\n",
       "       [ 0.84544976,  0.15455024],\n",
       "       [ 0.77281011,  0.22718989],\n",
       "       [ 0.7788617 ,  0.2211383 ],\n",
       "       [ 0.84536637,  0.15463363],\n",
       "       [ 0.34950375,  0.65049625],\n",
       "       [ 0.8457751 ,  0.1542249 ],\n",
       "       [ 0.70638653,  0.29361347],\n",
       "       [ 0.84544976,  0.15455024],\n",
       "       [ 0.85169638,  0.14830362],\n",
       "       [ 0.62393476,  0.37606524],\n",
       "       [ 0.84536634,  0.15463366],\n",
       "       [ 0.84462521,  0.15537479],\n",
       "       [ 0.84541293,  0.15458707],\n",
       "       [ 0.71175152,  0.28824848],\n",
       "       [ 0.21034938,  0.78965062],\n",
       "       [ 0.78630881,  0.21369119],\n",
       "       [ 0.29685071,  0.70314929],\n",
       "       [ 0.84544976,  0.15455024],\n",
       "       [ 0.31370659,  0.68629341],\n",
       "       [ 0.84936462,  0.15063538],\n",
       "       [ 0.3803295 ,  0.6196705 ],\n",
       "       [ 0.36107517,  0.63892483],\n",
       "       [ 0.84547636,  0.15452364],\n",
       "       [ 0.83197887,  0.16802113],\n",
       "       [ 0.24861322,  0.75138678],\n",
       "       [ 0.28994756,  0.71005244],\n",
       "       [ 0.72731076,  0.27268924],\n",
       "       [ 0.31354963,  0.68645037],\n",
       "       [ 0.84575068,  0.15424932],\n",
       "       [ 0.84537154,  0.15462846],\n",
       "       [ 0.3725452 ,  0.6274548 ],\n",
       "       [ 0.80627363,  0.19372637],\n",
       "       [ 0.69010887,  0.30989113],\n",
       "       [ 0.3803295 ,  0.6196705 ],\n",
       "       [ 0.84720455,  0.15279545],\n",
       "       [ 0.12876638,  0.87123362],\n",
       "       [ 0.64195719,  0.35804281],\n",
       "       [ 0.85028948,  0.14971052],\n",
       "       [ 0.7527085 ,  0.2472915 ],\n",
       "       [ 0.32398737,  0.67601263],\n",
       "       [ 0.84614713,  0.15385287],\n",
       "       [ 0.86009311,  0.13990689],\n",
       "       [ 0.20621584,  0.79378416],\n",
       "       [ 0.84538351,  0.15461649],\n",
       "       [ 0.84545564,  0.15454436],\n",
       "       [ 0.18449904,  0.81550096],\n",
       "       [ 0.26337981,  0.73662019],\n",
       "       [ 0.31192139,  0.68807861],\n",
       "       [ 0.84159622,  0.15840378],\n",
       "       [ 0.79564263,  0.20435737],\n",
       "       [ 0.84788993,  0.15211007],\n",
       "       [ 0.84537154,  0.15462846],\n",
       "       [ 0.84484682,  0.15515318],\n",
       "       [ 0.27910731,  0.72089269],\n",
       "       [ 0.47770912,  0.52229088],\n",
       "       [ 0.84456497,  0.15543503],\n",
       "       [ 0.19812758,  0.80187242],\n",
       "       [ 0.84561011,  0.15438989],\n",
       "       [ 0.85181722,  0.14818278],\n",
       "       [ 0.84537154,  0.15462846],\n",
       "       [ 0.73213063,  0.26786937],\n",
       "       [ 0.2106827 ,  0.7893173 ],\n",
       "       [ 0.56965673,  0.43034327],\n",
       "       [ 0.5763205 ,  0.4236795 ],\n",
       "       [ 0.84228991,  0.15771009],\n",
       "       [ 0.84961717,  0.15038283],\n",
       "       [ 0.4094333 ,  0.5905667 ],\n",
       "       [ 0.84710193,  0.15289807],\n",
       "       [ 0.18104348,  0.81895652],\n",
       "       [ 0.84561011,  0.15438989],\n",
       "       [ 0.84543698,  0.15456302],\n",
       "       [ 0.20827132,  0.79172868],\n",
       "       [ 0.80845274,  0.19154726],\n",
       "       [ 0.29396894,  0.70603106],\n",
       "       [ 0.89423249,  0.10576751],\n",
       "       [ 0.7804066 ,  0.2195934 ],\n",
       "       [ 0.79084482,  0.20915518],\n",
       "       [ 0.86607223,  0.13392777],\n",
       "       [ 0.28249558,  0.71750442],\n",
       "       [ 0.22626412,  0.77373588],\n",
       "       [ 0.21582111,  0.78417889],\n",
       "       [ 0.22501183,  0.77498817],\n",
       "       [ 0.217687  ,  0.782313  ],\n",
       "       [ 0.26769129,  0.73230871],\n",
       "       [ 0.84602516,  0.15397484],\n",
       "       [ 0.22724814,  0.77275186],\n",
       "       [ 0.84793517,  0.15206483],\n",
       "       [ 0.84602516,  0.15397484],\n",
       "       [ 0.64244821,  0.35755179]])"
      ]
     },
     "execution_count": 91,
     "metadata": {},
     "output_type": "execute_result"
    }
   ],
   "source": [
    "from sklearn import svm\n",
    "# SVM\n",
    "clfS = svm.SVC(probability=True)\n",
    "clfS.fit(train_x,train_y)\n",
    "resS = clfS.predict(test_x)\n",
    "clfS.predict_proba(test_x)"
   ]
  },
  {
   "cell_type": "code",
   "execution_count": 92,
   "metadata": {},
   "outputs": [
    {
     "name": "stdout",
     "output_type": "stream",
     "text": [
      "0.938934507321\n"
     ]
    },
    {
     "data": {
      "image/png": "[encoded data removed]",
      "text/plain": [
       "<matplotlib.figure.Figure at 0xe9b7110>"
      ]
     },
     "metadata": {},
     "output_type": "display_data"
    }
   ],
   "source": [
    "preS = clfS.predict_proba(test_x)\n",
    "print(roc_auc_score(test_y,preS[:,1]))\n",
    "fprS,tprS,thresholdsS = roc_curve(test_y,preS[:,1])\n",
    "figS,axS = plt.subplots(figsize=(8,5))\n",
    "plt.plot(fprS,tprS)\n",
    "ax.set_title(\"Roc of SVM\")\n",
    "plt.show()"
   ]
  },
  {
   "cell_type": "markdown",
   "metadata": {},
   "source": [
    "The ROC curve is similar with Naive-Bayes, there's miscarriage rate exists.\n",
    "\n",
    "SVM的ROC曲线和朴素贝叶斯类似，存在一定的误判率。"
   ]
  },
  {
   "cell_type": "markdown",
   "metadata": {},
   "source": [
    "Export the result of SVM\n",
    "\n",
    "导出SVM结果"
   ]
  },
  {
   "cell_type": "code",
   "execution_count": 66,
   "metadata": {
    "collapsed": true
   },
   "outputs": [],
   "source": [
    "output = pd.DataFrame( data={\"PassengerId\":test[\"PassengerId\"], \"Survived\":resS} )\n",
    "output.to_csv( \"Titanic_SVM.csv\", index=False, quoting=3 )"
   ]
  }
 ],
 "metadata": {
  "kernelspec": {
   "display_name": "Python 3",
   "language": "python",
   "name": "python3"
  },
  "language_info": {
   "codemirror_mode": {
    "name": "ipython",
    "version": 3
   },
   "file_extension": ".py",
   "mimetype": "text/x-python",
   "name": "python",
   "nbconvert_exporter": "python",
   "pygments_lexer": "ipython3",
   "version": "3.6.3"
  }
 },
 "nbformat": 4,
 "nbformat_minor": 2
}
